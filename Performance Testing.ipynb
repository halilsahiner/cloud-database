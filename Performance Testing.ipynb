{
 "cells": [
  {
   "cell_type": "code",
   "execution_count": 18,
   "id": "c8c4e382",
   "metadata": {},
   "outputs": [],
   "source": [
    "import os"
   ]
  },
  {
   "cell_type": "code",
   "execution_count": null,
   "id": "96fef284",
   "metadata": {},
   "outputs": [],
   "source": []
  },
  {
   "cell_type": "code",
   "execution_count": 19,
   "id": "c9d115bb",
   "metadata": {},
   "outputs": [],
   "source": [
    "no_of_servers = 1\n",
    "no_of_clients = 1"
   ]
  },
  {
   "cell_type": "code",
   "execution_count": 20,
   "id": "3b777dd5",
   "metadata": {},
   "outputs": [],
   "source": [
    "## ECS command = docker run ms3/gr10/ecs-server -l ecs.log –ll ALL -a 192.168.1.1 -p 5152\n",
    "## Server command = docker run ms3/gr10/kv-server -l kvserver1.log -ll ALL -d data/kvstore1/ -a 192.168.1.2 -p 5153 -b "
   ]
  },
  {
   "cell_type": "code",
   "execution_count": 21,
   "id": "710284c7",
   "metadata": {},
   "outputs": [],
   "source": [
    "## start_ip = 192.168.1.1\n",
    "## start_port = 5152"
   ]
  },
  {
   "cell_type": "code",
   "execution_count": 22,
   "id": "cd1bb9f4",
   "metadata": {},
   "outputs": [],
   "source": [
    "## metrics : throughput, latency"
   ]
  },
  {
   "cell_type": "code",
   "execution_count": 121,
   "id": "d34f6eec",
   "metadata": {
    "scrolled": false
   },
   "outputs": [
    {
     "name": "stderr",
     "output_type": "stream",
     "text": [
      "Error response from daemon: network with name server_network already exists\n"
     ]
    },
    {
     "data": {
      "text/plain": [
       "256"
      ]
     },
     "execution_count": 121,
     "metadata": {},
     "output_type": "execute_result"
    }
   ],
   "source": [
    "os.system(\"docker network create server_network\")"
   ]
  },
  {
   "cell_type": "code",
   "execution_count": 122,
   "id": "a0e97b4c",
   "metadata": {
    "scrolled": false
   },
   "outputs": [
    {
     "name": "stdout",
     "output_type": "stream",
     "text": [
      "a528846518d33113fc3f8161b79c4d091488fb0def090464e20792541f418d6f\n"
     ]
    }
   ],
   "source": [
    "ecs_handler(\"run\")"
   ]
  },
  {
   "cell_type": "code",
   "execution_count": 123,
   "id": "0987d64d",
   "metadata": {
    "scrolled": false
   },
   "outputs": [
    {
     "name": "stdout",
     "output_type": "stream",
     "text": [
      "479ac5b1df5f25cf90567b7a60ff410e91042739375d430bc673f388bf3af7d3\n",
      "8b7d7b478030c44ded37d59b715138500787f31a95226882a5aa50b8b03b6871\n",
      "644cd8b1b20766167c2716e944b86c18780d9898f084bac5804468d4522d66f5\n",
      "efc9292c3a613c57a3411db3b160263f265aa6c1e3aff1730f4966891aff7339\n",
      "5fae93cc63c171d70c27bf273aec2db95ae093c667faf0d7dd0864ae00487e32\n"
     ]
    }
   ],
   "source": [
    "server_handler(\"run\", 5)"
   ]
  },
  {
   "cell_type": "code",
   "execution_count": 58,
   "id": "b13e1a17",
   "metadata": {},
   "outputs": [
    {
     "name": "stdout",
     "output_type": "stream",
     "text": [
      "CONTAINER ID   IMAGE                 COMMAND                  CREATED              STATUS              PORTS                    NAMES\n",
      "5ef94d22c391   ms3/gr10/ecs-server   \"java -jar ./appdir/…\"   About a minute ago   Up About a minute   0.0.0.0:5151->5151/tcp   ecs-server\n"
     ]
    },
    {
     "data": {
      "text/plain": [
       "0"
      ]
     },
     "execution_count": 58,
     "metadata": {},
     "output_type": "execute_result"
    }
   ],
   "source": [
    "os.system(\"docker ps\")"
   ]
  },
  {
   "cell_type": "code",
   "execution_count": 13,
   "id": "c0c68235",
   "metadata": {
    "scrolled": true
   },
   "outputs": [
    {
     "name": "stderr",
     "output_type": "stream",
     "text": [
      "unknown shorthand flag: 'p' in -p\n",
      "See 'docker stop --help'.\n",
      "unknown shorthand flag: 'p' in -p\n",
      "See 'docker stop --help'.\n",
      "unknown shorthand flag: 'p' in -p\n",
      "See 'docker stop --help'.\n",
      "unknown shorthand flag: 'p' in -p\n",
      "See 'docker stop --help'.\n",
      "unknown shorthand flag: 'p' in -p\n",
      "See 'docker stop --help'.\n"
     ]
    }
   ],
   "source": [
    "server_handler(\"stop\", 5)"
   ]
  },
  {
   "cell_type": "code",
   "execution_count": 14,
   "id": "441945ac",
   "metadata": {},
   "outputs": [
    {
     "name": "stderr",
     "output_type": "stream",
     "text": [
      "unknown shorthand flag: 'p' in -p\n",
      "See 'docker rm --help'.\n",
      "unknown shorthand flag: 'p' in -p\n",
      "See 'docker rm --help'.\n",
      "unknown shorthand flag: 'p' in -p\n",
      "See 'docker rm --help'.\n",
      "unknown shorthand flag: 'p' in -p\n",
      "See 'docker rm --help'.\n",
      "unknown shorthand flag: 'p' in -p\n",
      "See 'docker rm --help'.\n"
     ]
    }
   ],
   "source": [
    "server_handler(\"rm\", 5)"
   ]
  },
  {
   "cell_type": "code",
   "execution_count": null,
   "id": "0103619a",
   "metadata": {},
   "outputs": [],
   "source": [
    "## One client, multiple servers (1, 5, 20)"
   ]
  },
  {
   "cell_type": "code",
   "execution_count": null,
   "id": "b3501d87",
   "metadata": {},
   "outputs": [],
   "source": []
  },
  {
   "cell_type": "code",
   "execution_count": null,
   "id": "599d0a34",
   "metadata": {},
   "outputs": [],
   "source": [
    "## One server, multiple clients (1, 5, 20)"
   ]
  },
  {
   "cell_type": "code",
   "execution_count": null,
   "id": "53101274",
   "metadata": {},
   "outputs": [],
   "source": []
  },
  {
   "cell_type": "code",
   "execution_count": null,
   "id": "5649e881",
   "metadata": {},
   "outputs": [],
   "source": [
    "## Multiple clients, multiple servers (5-5, 5-20, 20-5, 20-20)"
   ]
  },
  {
   "cell_type": "code",
   "execution_count": null,
   "id": "baecb9f0",
   "metadata": {},
   "outputs": [],
   "source": []
  },
  {
   "cell_type": "code",
   "execution_count": 117,
   "id": "a7f7b462",
   "metadata": {},
   "outputs": [],
   "source": [
    "def server_handler(operation=\"stop\", no_of_servers=\"5\"):\n",
    "    for i in range(3, 3+no_of_servers):\n",
    "        os.system(\"docker \"+operation+\" -p \"+str(5150+i)+\":\"+str(5150+i)+\" --name kv-server\"+str(i)+\" --network \\\"server_network\\\" -d ms3/gr10/kv-server -l kv-server\"+str(i)+\".log -ll ALL -a 127.0.0.\"+str(i)+\" -p \"+str(5150+i)+ \" -b host.docker.internal:5151\")"
   ]
  },
  {
   "cell_type": "code",
   "execution_count": 118,
   "id": "fa1200c2",
   "metadata": {},
   "outputs": [],
   "source": [
    "def client_handler(operation=\"stop\", no_of_clients=\"5\"):\n",
    "    for i in range(3, 3+no_of_clients):\n",
    "        os.system(\"docker \"+operation+\" --name client\"+str(i)+\" --network server_network -d ms3/gr10/kv-client\")"
   ]
  },
  {
   "cell_type": "code",
   "execution_count": 119,
   "id": "d809cf11",
   "metadata": {},
   "outputs": [],
   "source": [
    "def ecs_handler(operation=\"stop\"):\n",
    "    os.system(\"docker \"+operation+\" -p 5151:5151 --name ecs-server --network \\\"server_network\\\" -d ms3/gr10/ecs-server -a 0.0.0.0 -p 5151\")"
   ]
  },
  {
   "cell_type": "code",
   "execution_count": null,
   "id": "349febfa",
   "metadata": {},
   "outputs": [],
   "source": [
    "## docker exec \n",
    "## catch the reply"
   ]
  },
  {
   "cell_type": "code",
   "execution_count": null,
   "id": "44388ef4",
   "metadata": {},
   "outputs": [],
   "source": []
  },
  {
   "cell_type": "code",
   "execution_count": 124,
   "id": "c81f6f63",
   "metadata": {
    "scrolled": false
   },
   "outputs": [
    {
     "name": "stdout",
     "output_type": "stream",
     "text": [
      "kv-server3\n",
      "kv-server4\n",
      "kv-server5\n",
      "kv-server6\n",
      "kv-server7\n"
     ]
    }
   ],
   "source": [
    "for i in range(3,8):\n",
    "    os.system(\"docker rm -f kv-server\"+str(i))"
   ]
  },
  {
   "cell_type": "code",
   "execution_count": 83,
   "id": "4e333c26",
   "metadata": {},
   "outputs": [
    {
     "name": "stdout",
     "output_type": "stream",
     "text": [
      "ecs-server\n"
     ]
    },
    {
     "data": {
      "text/plain": [
       "0"
      ]
     },
     "execution_count": 83,
     "metadata": {},
     "output_type": "execute_result"
    }
   ],
   "source": [
    "os.system(\"docker rm ecs-server\")"
   ]
  },
  {
   "cell_type": "code",
   "execution_count": null,
   "id": "b9f3d683",
   "metadata": {},
   "outputs": [],
   "source": [
    "## cache conf"
   ]
  }
 ],
 "metadata": {
  "kernelspec": {
   "display_name": "Python 3 (ipykernel)",
   "language": "python",
   "name": "python3"
  },
  "language_info": {
   "codemirror_mode": {
    "name": "ipython",
    "version": 3
   },
   "file_extension": ".py",
   "mimetype": "text/x-python",
   "name": "python",
   "nbconvert_exporter": "python",
   "pygments_lexer": "ipython3",
   "version": "3.9.13"
  }
 },
 "nbformat": 4,
 "nbformat_minor": 5
}
